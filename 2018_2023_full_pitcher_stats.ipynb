{
 "cells": [
  {
   "cell_type": "code",
   "execution_count": 1,
   "metadata": {
    "colab": {
     "base_uri": "https://localhost:8080/"
    },
    "executionInfo": {
     "elapsed": 12664,
     "status": "ok",
     "timestamp": 1693330082154,
     "user": {
      "displayName": "David Alfonso",
      "userId": "10142891633671938525"
     },
     "user_tz": 420
    },
    "id": "XSs3evY5PqZp",
    "outputId": "ea004234-2f39-4de2-feeb-78d8af7a1e5f"
   },
   "outputs": [],
   "source": [
    "import numpy as np\n",
    "import pandas as pd\n",
    "from scipy.stats import zscore"
   ]
  },
  {
   "cell_type": "code",
   "execution_count": 2,
   "metadata": {
    "executionInfo": {
     "elapsed": 510,
     "status": "ok",
     "timestamp": 1693330085330,
     "user": {
      "displayName": "David Alfonso",
      "userId": "10142891633671938525"
     },
     "user_tz": 420
    },
    "id": "aMpS7P-0P-dx"
   },
   "outputs": [
    {
     "ename": "FileNotFoundError",
     "evalue": "[Errno 2] No such file or directory: 'Resources/2018_2023_mlb_sp_stats.csv'",
     "output_type": "error",
     "traceback": [
      "\u001b[1;31m---------------------------------------------------------------------------\u001b[0m",
      "\u001b[1;31mFileNotFoundError\u001b[0m                         Traceback (most recent call last)",
      "Cell \u001b[1;32mIn[2], line 2\u001b[0m\n\u001b[0;32m      1\u001b[0m \u001b[38;5;66;03m# MLB pitching stats data\u001b[39;00m\n\u001b[1;32m----> 2\u001b[0m sp_pitch_data \u001b[38;5;241m=\u001b[39m \u001b[43mpd\u001b[49m\u001b[38;5;241;43m.\u001b[39;49m\u001b[43mread_csv\u001b[49m\u001b[43m(\u001b[49m\u001b[38;5;124;43m'\u001b[39;49m\u001b[38;5;124;43mResources/2018_2023_mlb_sp_stats.csv\u001b[39;49m\u001b[38;5;124;43m'\u001b[39;49m\u001b[43m)\u001b[49m\n",
      "File \u001b[1;32m~\\anaconda3\\envs\\dev\\lib\\site-packages\\pandas\\util\\_decorators.py:211\u001b[0m, in \u001b[0;36mdeprecate_kwarg.<locals>._deprecate_kwarg.<locals>.wrapper\u001b[1;34m(*args, **kwargs)\u001b[0m\n\u001b[0;32m    209\u001b[0m     \u001b[38;5;28;01melse\u001b[39;00m:\n\u001b[0;32m    210\u001b[0m         kwargs[new_arg_name] \u001b[38;5;241m=\u001b[39m new_arg_value\n\u001b[1;32m--> 211\u001b[0m \u001b[38;5;28;01mreturn\u001b[39;00m func(\u001b[38;5;241m*\u001b[39margs, \u001b[38;5;241m*\u001b[39m\u001b[38;5;241m*\u001b[39mkwargs)\n",
      "File \u001b[1;32m~\\anaconda3\\envs\\dev\\lib\\site-packages\\pandas\\util\\_decorators.py:331\u001b[0m, in \u001b[0;36mdeprecate_nonkeyword_arguments.<locals>.decorate.<locals>.wrapper\u001b[1;34m(*args, **kwargs)\u001b[0m\n\u001b[0;32m    325\u001b[0m \u001b[38;5;28;01mif\u001b[39;00m \u001b[38;5;28mlen\u001b[39m(args) \u001b[38;5;241m>\u001b[39m num_allow_args:\n\u001b[0;32m    326\u001b[0m     warnings\u001b[38;5;241m.\u001b[39mwarn(\n\u001b[0;32m    327\u001b[0m         msg\u001b[38;5;241m.\u001b[39mformat(arguments\u001b[38;5;241m=\u001b[39m_format_argument_list(allow_args)),\n\u001b[0;32m    328\u001b[0m         \u001b[38;5;167;01mFutureWarning\u001b[39;00m,\n\u001b[0;32m    329\u001b[0m         stacklevel\u001b[38;5;241m=\u001b[39mfind_stack_level(),\n\u001b[0;32m    330\u001b[0m     )\n\u001b[1;32m--> 331\u001b[0m \u001b[38;5;28;01mreturn\u001b[39;00m func(\u001b[38;5;241m*\u001b[39margs, \u001b[38;5;241m*\u001b[39m\u001b[38;5;241m*\u001b[39mkwargs)\n",
      "File \u001b[1;32m~\\anaconda3\\envs\\dev\\lib\\site-packages\\pandas\\io\\parsers\\readers.py:950\u001b[0m, in \u001b[0;36mread_csv\u001b[1;34m(filepath_or_buffer, sep, delimiter, header, names, index_col, usecols, squeeze, prefix, mangle_dupe_cols, dtype, engine, converters, true_values, false_values, skipinitialspace, skiprows, skipfooter, nrows, na_values, keep_default_na, na_filter, verbose, skip_blank_lines, parse_dates, infer_datetime_format, keep_date_col, date_parser, dayfirst, cache_dates, iterator, chunksize, compression, thousands, decimal, lineterminator, quotechar, quoting, doublequote, escapechar, comment, encoding, encoding_errors, dialect, error_bad_lines, warn_bad_lines, on_bad_lines, delim_whitespace, low_memory, memory_map, float_precision, storage_options)\u001b[0m\n\u001b[0;32m    935\u001b[0m kwds_defaults \u001b[38;5;241m=\u001b[39m _refine_defaults_read(\n\u001b[0;32m    936\u001b[0m     dialect,\n\u001b[0;32m    937\u001b[0m     delimiter,\n\u001b[1;32m   (...)\u001b[0m\n\u001b[0;32m    946\u001b[0m     defaults\u001b[38;5;241m=\u001b[39m{\u001b[38;5;124m\"\u001b[39m\u001b[38;5;124mdelimiter\u001b[39m\u001b[38;5;124m\"\u001b[39m: \u001b[38;5;124m\"\u001b[39m\u001b[38;5;124m,\u001b[39m\u001b[38;5;124m\"\u001b[39m},\n\u001b[0;32m    947\u001b[0m )\n\u001b[0;32m    948\u001b[0m kwds\u001b[38;5;241m.\u001b[39mupdate(kwds_defaults)\n\u001b[1;32m--> 950\u001b[0m \u001b[38;5;28;01mreturn\u001b[39;00m \u001b[43m_read\u001b[49m\u001b[43m(\u001b[49m\u001b[43mfilepath_or_buffer\u001b[49m\u001b[43m,\u001b[49m\u001b[43m \u001b[49m\u001b[43mkwds\u001b[49m\u001b[43m)\u001b[49m\n",
      "File \u001b[1;32m~\\anaconda3\\envs\\dev\\lib\\site-packages\\pandas\\io\\parsers\\readers.py:605\u001b[0m, in \u001b[0;36m_read\u001b[1;34m(filepath_or_buffer, kwds)\u001b[0m\n\u001b[0;32m    602\u001b[0m _validate_names(kwds\u001b[38;5;241m.\u001b[39mget(\u001b[38;5;124m\"\u001b[39m\u001b[38;5;124mnames\u001b[39m\u001b[38;5;124m\"\u001b[39m, \u001b[38;5;28;01mNone\u001b[39;00m))\n\u001b[0;32m    604\u001b[0m \u001b[38;5;66;03m# Create the parser.\u001b[39;00m\n\u001b[1;32m--> 605\u001b[0m parser \u001b[38;5;241m=\u001b[39m TextFileReader(filepath_or_buffer, \u001b[38;5;241m*\u001b[39m\u001b[38;5;241m*\u001b[39mkwds)\n\u001b[0;32m    607\u001b[0m \u001b[38;5;28;01mif\u001b[39;00m chunksize \u001b[38;5;129;01mor\u001b[39;00m iterator:\n\u001b[0;32m    608\u001b[0m     \u001b[38;5;28;01mreturn\u001b[39;00m parser\n",
      "File \u001b[1;32m~\\anaconda3\\envs\\dev\\lib\\site-packages\\pandas\\io\\parsers\\readers.py:1442\u001b[0m, in \u001b[0;36mTextFileReader.__init__\u001b[1;34m(self, f, engine, **kwds)\u001b[0m\n\u001b[0;32m   1439\u001b[0m     \u001b[38;5;28mself\u001b[39m\u001b[38;5;241m.\u001b[39moptions[\u001b[38;5;124m\"\u001b[39m\u001b[38;5;124mhas_index_names\u001b[39m\u001b[38;5;124m\"\u001b[39m] \u001b[38;5;241m=\u001b[39m kwds[\u001b[38;5;124m\"\u001b[39m\u001b[38;5;124mhas_index_names\u001b[39m\u001b[38;5;124m\"\u001b[39m]\n\u001b[0;32m   1441\u001b[0m \u001b[38;5;28mself\u001b[39m\u001b[38;5;241m.\u001b[39mhandles: IOHandles \u001b[38;5;241m|\u001b[39m \u001b[38;5;28;01mNone\u001b[39;00m \u001b[38;5;241m=\u001b[39m \u001b[38;5;28;01mNone\u001b[39;00m\n\u001b[1;32m-> 1442\u001b[0m \u001b[38;5;28mself\u001b[39m\u001b[38;5;241m.\u001b[39m_engine \u001b[38;5;241m=\u001b[39m \u001b[38;5;28;43mself\u001b[39;49m\u001b[38;5;241;43m.\u001b[39;49m\u001b[43m_make_engine\u001b[49m\u001b[43m(\u001b[49m\u001b[43mf\u001b[49m\u001b[43m,\u001b[49m\u001b[43m \u001b[49m\u001b[38;5;28;43mself\u001b[39;49m\u001b[38;5;241;43m.\u001b[39;49m\u001b[43mengine\u001b[49m\u001b[43m)\u001b[49m\n",
      "File \u001b[1;32m~\\anaconda3\\envs\\dev\\lib\\site-packages\\pandas\\io\\parsers\\readers.py:1735\u001b[0m, in \u001b[0;36mTextFileReader._make_engine\u001b[1;34m(self, f, engine)\u001b[0m\n\u001b[0;32m   1733\u001b[0m     \u001b[38;5;28;01mif\u001b[39;00m \u001b[38;5;124m\"\u001b[39m\u001b[38;5;124mb\u001b[39m\u001b[38;5;124m\"\u001b[39m \u001b[38;5;129;01mnot\u001b[39;00m \u001b[38;5;129;01min\u001b[39;00m mode:\n\u001b[0;32m   1734\u001b[0m         mode \u001b[38;5;241m+\u001b[39m\u001b[38;5;241m=\u001b[39m \u001b[38;5;124m\"\u001b[39m\u001b[38;5;124mb\u001b[39m\u001b[38;5;124m\"\u001b[39m\n\u001b[1;32m-> 1735\u001b[0m \u001b[38;5;28mself\u001b[39m\u001b[38;5;241m.\u001b[39mhandles \u001b[38;5;241m=\u001b[39m \u001b[43mget_handle\u001b[49m\u001b[43m(\u001b[49m\n\u001b[0;32m   1736\u001b[0m \u001b[43m    \u001b[49m\u001b[43mf\u001b[49m\u001b[43m,\u001b[49m\n\u001b[0;32m   1737\u001b[0m \u001b[43m    \u001b[49m\u001b[43mmode\u001b[49m\u001b[43m,\u001b[49m\n\u001b[0;32m   1738\u001b[0m \u001b[43m    \u001b[49m\u001b[43mencoding\u001b[49m\u001b[38;5;241;43m=\u001b[39;49m\u001b[38;5;28;43mself\u001b[39;49m\u001b[38;5;241;43m.\u001b[39;49m\u001b[43moptions\u001b[49m\u001b[38;5;241;43m.\u001b[39;49m\u001b[43mget\u001b[49m\u001b[43m(\u001b[49m\u001b[38;5;124;43m\"\u001b[39;49m\u001b[38;5;124;43mencoding\u001b[39;49m\u001b[38;5;124;43m\"\u001b[39;49m\u001b[43m,\u001b[49m\u001b[43m \u001b[49m\u001b[38;5;28;43;01mNone\u001b[39;49;00m\u001b[43m)\u001b[49m\u001b[43m,\u001b[49m\n\u001b[0;32m   1739\u001b[0m \u001b[43m    \u001b[49m\u001b[43mcompression\u001b[49m\u001b[38;5;241;43m=\u001b[39;49m\u001b[38;5;28;43mself\u001b[39;49m\u001b[38;5;241;43m.\u001b[39;49m\u001b[43moptions\u001b[49m\u001b[38;5;241;43m.\u001b[39;49m\u001b[43mget\u001b[49m\u001b[43m(\u001b[49m\u001b[38;5;124;43m\"\u001b[39;49m\u001b[38;5;124;43mcompression\u001b[39;49m\u001b[38;5;124;43m\"\u001b[39;49m\u001b[43m,\u001b[49m\u001b[43m \u001b[49m\u001b[38;5;28;43;01mNone\u001b[39;49;00m\u001b[43m)\u001b[49m\u001b[43m,\u001b[49m\n\u001b[0;32m   1740\u001b[0m \u001b[43m    \u001b[49m\u001b[43mmemory_map\u001b[49m\u001b[38;5;241;43m=\u001b[39;49m\u001b[38;5;28;43mself\u001b[39;49m\u001b[38;5;241;43m.\u001b[39;49m\u001b[43moptions\u001b[49m\u001b[38;5;241;43m.\u001b[39;49m\u001b[43mget\u001b[49m\u001b[43m(\u001b[49m\u001b[38;5;124;43m\"\u001b[39;49m\u001b[38;5;124;43mmemory_map\u001b[39;49m\u001b[38;5;124;43m\"\u001b[39;49m\u001b[43m,\u001b[49m\u001b[43m \u001b[49m\u001b[38;5;28;43;01mFalse\u001b[39;49;00m\u001b[43m)\u001b[49m\u001b[43m,\u001b[49m\n\u001b[0;32m   1741\u001b[0m \u001b[43m    \u001b[49m\u001b[43mis_text\u001b[49m\u001b[38;5;241;43m=\u001b[39;49m\u001b[43mis_text\u001b[49m\u001b[43m,\u001b[49m\n\u001b[0;32m   1742\u001b[0m \u001b[43m    \u001b[49m\u001b[43merrors\u001b[49m\u001b[38;5;241;43m=\u001b[39;49m\u001b[38;5;28;43mself\u001b[39;49m\u001b[38;5;241;43m.\u001b[39;49m\u001b[43moptions\u001b[49m\u001b[38;5;241;43m.\u001b[39;49m\u001b[43mget\u001b[49m\u001b[43m(\u001b[49m\u001b[38;5;124;43m\"\u001b[39;49m\u001b[38;5;124;43mencoding_errors\u001b[39;49m\u001b[38;5;124;43m\"\u001b[39;49m\u001b[43m,\u001b[49m\u001b[43m \u001b[49m\u001b[38;5;124;43m\"\u001b[39;49m\u001b[38;5;124;43mstrict\u001b[39;49m\u001b[38;5;124;43m\"\u001b[39;49m\u001b[43m)\u001b[49m\u001b[43m,\u001b[49m\n\u001b[0;32m   1743\u001b[0m \u001b[43m    \u001b[49m\u001b[43mstorage_options\u001b[49m\u001b[38;5;241;43m=\u001b[39;49m\u001b[38;5;28;43mself\u001b[39;49m\u001b[38;5;241;43m.\u001b[39;49m\u001b[43moptions\u001b[49m\u001b[38;5;241;43m.\u001b[39;49m\u001b[43mget\u001b[49m\u001b[43m(\u001b[49m\u001b[38;5;124;43m\"\u001b[39;49m\u001b[38;5;124;43mstorage_options\u001b[39;49m\u001b[38;5;124;43m\"\u001b[39;49m\u001b[43m,\u001b[49m\u001b[43m \u001b[49m\u001b[38;5;28;43;01mNone\u001b[39;49;00m\u001b[43m)\u001b[49m\u001b[43m,\u001b[49m\n\u001b[0;32m   1744\u001b[0m \u001b[43m\u001b[49m\u001b[43m)\u001b[49m\n\u001b[0;32m   1745\u001b[0m \u001b[38;5;28;01massert\u001b[39;00m \u001b[38;5;28mself\u001b[39m\u001b[38;5;241m.\u001b[39mhandles \u001b[38;5;129;01mis\u001b[39;00m \u001b[38;5;129;01mnot\u001b[39;00m \u001b[38;5;28;01mNone\u001b[39;00m\n\u001b[0;32m   1746\u001b[0m f \u001b[38;5;241m=\u001b[39m \u001b[38;5;28mself\u001b[39m\u001b[38;5;241m.\u001b[39mhandles\u001b[38;5;241m.\u001b[39mhandle\n",
      "File \u001b[1;32m~\\anaconda3\\envs\\dev\\lib\\site-packages\\pandas\\io\\common.py:856\u001b[0m, in \u001b[0;36mget_handle\u001b[1;34m(path_or_buf, mode, encoding, compression, memory_map, is_text, errors, storage_options)\u001b[0m\n\u001b[0;32m    851\u001b[0m \u001b[38;5;28;01melif\u001b[39;00m \u001b[38;5;28misinstance\u001b[39m(handle, \u001b[38;5;28mstr\u001b[39m):\n\u001b[0;32m    852\u001b[0m     \u001b[38;5;66;03m# Check whether the filename is to be opened in binary mode.\u001b[39;00m\n\u001b[0;32m    853\u001b[0m     \u001b[38;5;66;03m# Binary mode does not support 'encoding' and 'newline'.\u001b[39;00m\n\u001b[0;32m    854\u001b[0m     \u001b[38;5;28;01mif\u001b[39;00m ioargs\u001b[38;5;241m.\u001b[39mencoding \u001b[38;5;129;01mand\u001b[39;00m \u001b[38;5;124m\"\u001b[39m\u001b[38;5;124mb\u001b[39m\u001b[38;5;124m\"\u001b[39m \u001b[38;5;129;01mnot\u001b[39;00m \u001b[38;5;129;01min\u001b[39;00m ioargs\u001b[38;5;241m.\u001b[39mmode:\n\u001b[0;32m    855\u001b[0m         \u001b[38;5;66;03m# Encoding\u001b[39;00m\n\u001b[1;32m--> 856\u001b[0m         handle \u001b[38;5;241m=\u001b[39m \u001b[38;5;28;43mopen\u001b[39;49m\u001b[43m(\u001b[49m\n\u001b[0;32m    857\u001b[0m \u001b[43m            \u001b[49m\u001b[43mhandle\u001b[49m\u001b[43m,\u001b[49m\n\u001b[0;32m    858\u001b[0m \u001b[43m            \u001b[49m\u001b[43mioargs\u001b[49m\u001b[38;5;241;43m.\u001b[39;49m\u001b[43mmode\u001b[49m\u001b[43m,\u001b[49m\n\u001b[0;32m    859\u001b[0m \u001b[43m            \u001b[49m\u001b[43mencoding\u001b[49m\u001b[38;5;241;43m=\u001b[39;49m\u001b[43mioargs\u001b[49m\u001b[38;5;241;43m.\u001b[39;49m\u001b[43mencoding\u001b[49m\u001b[43m,\u001b[49m\n\u001b[0;32m    860\u001b[0m \u001b[43m            \u001b[49m\u001b[43merrors\u001b[49m\u001b[38;5;241;43m=\u001b[39;49m\u001b[43merrors\u001b[49m\u001b[43m,\u001b[49m\n\u001b[0;32m    861\u001b[0m \u001b[43m            \u001b[49m\u001b[43mnewline\u001b[49m\u001b[38;5;241;43m=\u001b[39;49m\u001b[38;5;124;43m\"\u001b[39;49m\u001b[38;5;124;43m\"\u001b[39;49m\u001b[43m,\u001b[49m\n\u001b[0;32m    862\u001b[0m \u001b[43m        \u001b[49m\u001b[43m)\u001b[49m\n\u001b[0;32m    863\u001b[0m     \u001b[38;5;28;01melse\u001b[39;00m:\n\u001b[0;32m    864\u001b[0m         \u001b[38;5;66;03m# Binary mode\u001b[39;00m\n\u001b[0;32m    865\u001b[0m         handle \u001b[38;5;241m=\u001b[39m \u001b[38;5;28mopen\u001b[39m(handle, ioargs\u001b[38;5;241m.\u001b[39mmode)\n",
      "\u001b[1;31mFileNotFoundError\u001b[0m: [Errno 2] No such file or directory: 'Resources/2018_2023_mlb_sp_stats.csv'"
     ]
    }
   ],
   "source": [
    "# MLB pitching stats data\n",
    "sp_pitch_data = pd.read_csv('Resources/2018_2023_mlb_sp_stats.csv')"
   ]
  },
  {
   "cell_type": "code",
   "execution_count": null,
   "metadata": {
    "colab": {
     "base_uri": "https://localhost:8080/",
     "height": 236
    },
    "executionInfo": {
     "elapsed": 160,
     "status": "ok",
     "timestamp": 1693330088456,
     "user": {
      "displayName": "David Alfonso",
      "userId": "10142891633671938525"
     },
     "user_tz": 420
    },
    "id": "M5tZ-2XbVMlE",
    "outputId": "72380e24-9353-46dc-daab-869bd64d7c96"
   },
   "outputs": [],
   "source": [
    "sp_pitch_data"
   ]
  },
  {
   "cell_type": "code",
   "execution_count": null,
   "metadata": {
    "colab": {
     "base_uri": "https://localhost:8080/",
     "height": 236
    },
    "executionInfo": {
     "elapsed": 379,
     "status": "ok",
     "timestamp": 1693330095655,
     "user": {
      "displayName": "David Alfonso",
      "userId": "10142891633671938525"
     },
     "user_tz": 420
    },
    "id": "CYTaYX1y-sQ6",
    "outputId": "1c367870-6642-46b4-8246-5250364e727e"
   },
   "outputs": [],
   "source": [
    "# Filter out rows with Season 2020 due to pandemic year (Only 60 games played)\n",
    "sp_pitch_data = sp_pitch_data[sp_pitch_data['Season'] != 2020]\n",
    "\n",
    "# Drop the 'Season.1' column.\n",
    "columns_to_drop = ['Name.1', 'Team.1', 'Season.1', 'NameASCII', 'MLBAMID']\n",
    "\n",
    "sp_pitch_data = sp_pitch_data.drop(columns= columns_to_drop)\n",
    "\n",
    "sp_pitch_data.head()\n"
   ]
  },
  {
   "cell_type": "code",
   "execution_count": null,
   "metadata": {
    "colab": {
     "base_uri": "https://localhost:8080/",
     "height": 236
    },
    "executionInfo": {
     "elapsed": 381,
     "status": "ok",
     "timestamp": 1693330107458,
     "user": {
      "displayName": "David Alfonso",
      "userId": "10142891633671938525"
     },
     "user_tz": 420
    },
    "id": "UGiHXy2DEn_h",
    "outputId": "ff84e8a9-05b2-406c-973d-9238b5d96fe7"
   },
   "outputs": [],
   "source": [
    "# Fill remaining null values with zeros to account for any gaps in data since pitchers do not all throw the same pitches.\n",
    "sp_pitch_data = sp_pitch_data.fillna(0)\n",
    "\n",
    "# Display the cleaned and filled DataFrame\n",
    "sp_pitch_data.head()\n"
   ]
  },
  {
   "cell_type": "code",
   "execution_count": null,
   "metadata": {
    "executionInfo": {
     "elapsed": 157,
     "status": "ok",
     "timestamp": 1693330141856,
     "user": {
      "displayName": "David Alfonso",
      "userId": "10142891633671938525"
     },
     "user_tz": 420
    },
    "id": "a-M53UxmNDag"
   },
   "outputs": [],
   "source": [
    "# Filter out columns with (pi) in their titles\n",
    "columns_to_drop = sp_pitch_data.filter(like=\"(pi)\").columns\n",
    "\n",
    "# Drop the specified columns\n",
    "sp_pitch_data = sp_pitch_data.drop(columns=columns_to_drop)\n"
   ]
  },
  {
   "cell_type": "code",
   "execution_count": null,
   "metadata": {
    "colab": {
     "base_uri": "https://localhost:8080/",
     "height": 424
    },
    "executionInfo": {
     "elapsed": 171,
     "status": "ok",
     "timestamp": 1693330205395,
     "user": {
      "displayName": "David Alfonso",
      "userId": "10142891633671938525"
     },
     "user_tz": 420
    },
    "id": "B0hwbBPPUe6O",
    "outputId": "36494f91-ca06-4341-acb8-fc8df0b475dd"
   },
   "outputs": [],
   "source": [
    "# Filter DF for the relevant seasons (2018, 2019, 2021, 2022)\n",
    "relevant_seasons = [2018, 2019, 2021, 2022]\n",
    "filtered_pitching_data = sp_pitch_data[sp_pitch_data['Season'].isin(relevant_seasons)]\n",
    "\n",
    "# Group the data by player for target 2023\n",
    "sp_data_2023 = sp_pitch_data[sp_pitch_data['Season'] == 2023]\n",
    "grouped_data = filtered_pitching_data.groupby('PlayerId')\n",
    "\n",
    "# Calculate average statistics for ERA, FIP, and WHIP\n",
    "average_stats = grouped_data[['ERA', 'FIP', 'WHIP']].mean()\n",
    "\n",
    "# Merge the average stats with the 2023 stats for each player\n",
    "stats_2023 = pd.merge(average_stats, sp_data_2023[['PlayerId', 'ERA', 'FIP', 'WHIP']], on='PlayerId', suffixes=('_avg', '_2023'))\n",
    "\n",
    "# Merge pitcher names with the results DF, and merge pitcher names and calculated results\n",
    "pitcher_output = pd.merge(\n",
    "   filtered_pitching_data[['PlayerId', 'Name']].drop_duplicates(),\n",
    "   stats_2023,\n",
    "   on='PlayerId'\n",
    ")\n",
    "\n",
    "# Merging pitcher_output back with sp_pitch_data to retain all columns\n",
    "merged_data = pd.merge(sp_pitch_data, pitcher_output, on=['PlayerId', 'Name'], how='left')\n",
    "\n",
    "# Clean up duplicate rows by keeping the first occurrence\n",
    "merged_data = merged_data.drop_duplicates(subset=['PlayerId', 'Name'], keep='first')\n",
    "\n",
    "# Display the merged result\n",
    "merged_data.head()"
   ]
  },
  {
   "cell_type": "code",
   "execution_count": null,
   "metadata": {},
   "outputs": [],
   "source": [
    "merged_data.to_csv('Resources/merged_data.csv', encoding=\"utf-8\", index=False)"
   ]
  },
  {
   "cell_type": "code",
   "execution_count": null,
   "metadata": {},
   "outputs": [],
   "source": [
    "epsilon = 1e-6  # A small constant to avoid zero standard deviation\n",
    "\n",
    "# Calculate z-scores for ERA, FIP, and WHIP\n",
    "z_scores_era_avg = zscore(merged_data['ERA_avg'].fillna(0))\n",
    "z_score_era_2023 = zscore(merged_data['ERA_2023'].fillna(0) + epsilon)\n",
    "z_scores_fip_avg = zscore(merged_data['FIP_avg'].fillna(0))\n",
    "z_score_fip_2023 = zscore(merged_data['FIP_2023'].fillna(0) + epsilon)\n",
    "z_scores_whip_avg = zscore(merged_data['WHIP_avg'].fillna(0))\n",
    "z_score_whip_2023 = zscore(merged_data['WHIP_2023'].fillna(0) + epsilon)\n",
    "\n",
    "# Calculate the differences between z-scores\n",
    "z_score_diff_era = z_score_era_2023 - z_scores_era_avg\n",
    "z_score_diff_fip = z_score_fip_2023 - z_scores_fip_avg\n",
    "z_score_diff_whip = z_score_whip_2023 - z_scores_whip_avg\n",
    "\n",
    "# Add the z-scores and differences as new columns to the DataFrame\n",
    "merged_data['z_score_era_avg'] = z_scores_era_avg\n",
    "merged_data['z_score_era_2023'] = z_score_era_2023\n",
    "merged_data['z_score_diff_era'] = z_score_diff_era\n",
    "merged_data['z_score_fip_avg'] = z_scores_fip_avg\n",
    "merged_data['z_score_fip_2023'] = z_score_fip_2023\n",
    "merged_data['z_score_diff_fip'] = z_score_diff_fip\n",
    "merged_data['z_score_whip_avg'] = z_scores_whip_avg\n",
    "merged_data['z_score_whip_2023'] = z_score_whip_2023\n",
    "merged_data['z_score_diff_whip'] = z_score_diff_whip\n",
    "\n",
    "# Display the DataFrame\n",
    "print(merged_data.head())\n"
   ]
  },
  {
   "cell_type": "code",
   "execution_count": null,
   "metadata": {},
   "outputs": [],
   "source": [
    "# Check standard deviations\n",
    "print(\"Standard Deviations:\")\n",
    "print(\"ERA_avg:\", merged_data['ERA_avg'].std())\n",
    "print(\"FIP_avg:\", merged_data['FIP_avg'].std())\n",
    "print(\"WHIP_avg:\", merged_data['WHIP_avg'].std())\n",
    "print(\"ERA_2023:\", merged_data['ERA_2023'].std())\n",
    "print(\"FIP_2023:\", merged_data['FIP_2023'].std())\n",
    "print(\"WHIP_2023:\", merged_data['WHIP_2023'].std())"
   ]
  },
  {
   "cell_type": "code",
   "execution_count": null,
   "metadata": {
    "colab": {
     "base_uri": "https://localhost:8080/",
     "height": 583
    },
    "executionInfo": {
     "elapsed": 211,
     "status": "ok",
     "timestamp": 1693330917122,
     "user": {
      "displayName": "David Alfonso",
      "userId": "10142891633671938525"
     },
     "user_tz": 420
    },
    "id": "JGluYL5s43zF",
    "outputId": "63f38f63-4be6-4d57-9bc4-6787c457c314"
   },
   "outputs": [],
   "source": [
    "\n",
    "print(\"Intermediate Values:\")\n",
    "print(\"z_scores_era_avg:\", z_scores_era_avg)\n",
    "print(\"z_score_era_2023:\", z_score_era_2023)"
   ]
  },
  {
   "cell_type": "code",
   "execution_count": null,
   "metadata": {},
   "outputs": [],
   "source": [
    "\n",
    "print(\"Intermediate Values:\")\n",
    "print(\"z_scores_fip_avg:\", z_scores_fip_avg)\n",
    "print(\"z_score_fip_2023:\", z_score_fip_2023)"
   ]
  },
  {
   "cell_type": "code",
   "execution_count": null,
   "metadata": {},
   "outputs": [],
   "source": [
    "\n",
    "print(\"Intermediate Values:\")\n",
    "print(\"z_scores_whip_avg:\", z_scores_whip_avg)\n",
    "print(\"z_score_whip_2023:\", z_score_whip_2023)"
   ]
  },
  {
   "cell_type": "code",
   "execution_count": null,
   "metadata": {
    "executionInfo": {
     "elapsed": 164,
     "status": "ok",
     "timestamp": 1693331108554,
     "user": {
      "displayName": "David Alfonso",
      "userId": "10142891633671938525"
     },
     "user_tz": 420
    },
    "id": "_4G6maZGY98Y"
   },
   "outputs": [],
   "source": [
    "#  Output full pitch data to csv\n",
    "merged_data.to_csv('Resources/full_pitcher_data.csv', encoding=\"utf-8\", index=False)\n"
   ]
  },
  {
   "cell_type": "code",
   "execution_count": null,
   "metadata": {},
   "outputs": [],
   "source": [
    "merged_data.head()"
   ]
  },
  {
   "cell_type": "code",
   "execution_count": null,
   "metadata": {
    "colab": {
     "base_uri": "https://localhost:8080/",
     "height": 206
    },
    "executionInfo": {
     "elapsed": 189,
     "status": "ok",
     "timestamp": 1693331479213,
     "user": {
      "displayName": "David Alfonso",
      "userId": "10142891633671938525"
     },
     "user_tz": 420
    },
    "id": "51gftG-r437Z",
    "outputId": "cb82c7db-04bc-41bd-f282-f10d931101b1"
   },
   "outputs": [],
   "source": [
    "# Create dataset for ERA learning\n",
    "columns_to_drop = ['PlayerId', 'Name', 'ERA_2023', 'FIP_2023', 'WHIP_2023',\n",
    "                   'z_score_diff_fip', 'z_score_diff_whip']\n",
    "\n",
    "for_learning_era = merged_data.drop(columns=columns_to_drop)\n",
    "for_learning_era.head()\n"
   ]
  },
  {
   "cell_type": "code",
   "execution_count": null,
   "metadata": {
    "executionInfo": {
     "elapsed": 286,
     "status": "ok",
     "timestamp": 1693331630572,
     "user": {
      "displayName": "David Alfonso",
      "userId": "10142891633671938525"
     },
     "user_tz": 420
    },
    "id": "eVrVhyhNbOxk"
   },
   "outputs": [],
   "source": [
    "# Save ERA learning dataset to csv\n",
    "for_learning_era.to_csv('full_era_learning.csv', encoding=\"utf-8\", index=False)\n"
   ]
  },
  {
   "cell_type": "code",
   "execution_count": null,
   "metadata": {
    "colab": {
     "base_uri": "https://localhost:8080/",
     "height": 206
    },
    "executionInfo": {
     "elapsed": 156,
     "status": "ok",
     "timestamp": 1693331772560,
     "user": {
      "displayName": "David Alfonso",
      "userId": "10142891633671938525"
     },
     "user_tz": 420
    },
    "id": "8fzBo5h2bO9Q",
    "outputId": "9740cdf3-c055-48ce-cc9c-4473b7d967ad"
   },
   "outputs": [],
   "source": [
    "# Create dataset for FIP learning\n",
    "columns_to_drop = ['PlayerId', 'Name', 'ERA_2023', 'FIP_2023', 'WHIP_2023',\n",
    "                   'zscore_difference_era', 'zscore_difference_whip']\n",
    "\n",
    "for_learning_fip = pitcher_output.drop(columns=columns_to_drop)\n",
    "for_learning_fip.head()\n"
   ]
  },
  {
   "cell_type": "code",
   "execution_count": null,
   "metadata": {
    "executionInfo": {
     "elapsed": 213,
     "status": "ok",
     "timestamp": 1693331823759,
     "user": {
      "displayName": "David Alfonso",
      "userId": "10142891633671938525"
     },
     "user_tz": 420
    },
    "id": "kI7w19MrbPB6"
   },
   "outputs": [],
   "source": [
    "# Save FIP learning dataset to csv\n",
    "for_learning_fip.to_csv('full_fip_learning.csv', encoding=\"utf-8\", index=False)\n"
   ]
  },
  {
   "cell_type": "code",
   "execution_count": null,
   "metadata": {
    "colab": {
     "base_uri": "https://localhost:8080/",
     "height": 206
    },
    "executionInfo": {
     "elapsed": 173,
     "status": "ok",
     "timestamp": 1693331881270,
     "user": {
      "displayName": "David Alfonso",
      "userId": "10142891633671938525"
     },
     "user_tz": 420
    },
    "id": "Idrx42rTbPKh",
    "outputId": "e8649c26-9e97-46d3-e8fa-9041a91418ea"
   },
   "outputs": [],
   "source": [
    "# Create dataset for WHIP learning\n",
    "columns_to_drop = ['PlayerId', 'Name', 'ERA_2023', 'FIP_2023', 'WHIP_2023',\n",
    "                   'zscore_difference_era', 'zscore_difference_fip']\n",
    "\n",
    "for_learning_whip = pitcher_output.drop(columns=columns_to_drop)\n",
    "for_learning_whip.head()\n"
   ]
  },
  {
   "cell_type": "code",
   "execution_count": null,
   "metadata": {
    "executionInfo": {
     "elapsed": 250,
     "status": "ok",
     "timestamp": 1693331916222,
     "user": {
      "displayName": "David Alfonso",
      "userId": "10142891633671938525"
     },
     "user_tz": 420
    },
    "id": "ujMpyH43DHAk"
   },
   "outputs": [],
   "source": [
    "# Save WHIP learning dataset to csv\n",
    "for_learning_whip.to_csv('full_whip_learning.csv', encoding=\"utf-8\", index=False)\n"
   ]
  },
  {
   "cell_type": "code",
   "execution_count": null,
   "metadata": {
    "id": "p3oGJkXOFVZt"
   },
   "outputs": [],
   "source": []
  },
  {
   "cell_type": "code",
   "execution_count": null,
   "metadata": {
    "id": "9EkQBnSzRYto"
   },
   "outputs": [],
   "source": []
  },
  {
   "cell_type": "code",
   "execution_count": null,
   "metadata": {
    "id": "PsG-ZzYORYvF"
   },
   "outputs": [],
   "source": []
  },
  {
   "cell_type": "code",
   "execution_count": null,
   "metadata": {
    "id": "kR2LpmKgRYzo"
   },
   "outputs": [],
   "source": []
  },
  {
   "cell_type": "code",
   "execution_count": null,
   "metadata": {
    "id": "ZRInkXz0RY4Z"
   },
   "outputs": [],
   "source": []
  }
 ],
 "metadata": {
  "colab": {
   "authorship_tag": "ABX9TyMxdU8nfl7+yNklv+Vh+kDy",
   "provenance": [
    {
     "file_id": "1P5KMAA9Ed1hlE5Q8gfpnPQO6xiwygCl7",
     "timestamp": 1693332576385
    }
   ]
  },
  "kernelspec": {
   "display_name": "Python 3 (ipykernel)",
   "language": "python",
   "name": "python3"
  },
  "language_info": {
   "codemirror_mode": {
    "name": "ipython",
    "version": 3
   },
   "file_extension": ".py",
   "mimetype": "text/x-python",
   "name": "python",
   "nbconvert_exporter": "python",
   "pygments_lexer": "ipython3",
   "version": "3.10.10"
  }
 },
 "nbformat": 4,
 "nbformat_minor": 1
}
